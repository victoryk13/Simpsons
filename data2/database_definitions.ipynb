{
 "cells": [
  {
   "cell_type": "code",
   "execution_count": 1,
   "metadata": {
    "collapsed": true
   },
   "outputs": [],
   "source": [
    "import sqlalchemy\n",
    "from sqlalchemy.ext.automap import automap_base\n",
    "from sqlalchemy.orm import Session\n",
    "from sqlalchemy import create_engine, inspect\n",
    "import pandas as pd\n",
    "import numpy as np"
   ]
  },
  {
   "cell_type": "code",
   "execution_count": 2,
   "metadata": {
    "collapsed": true
   },
   "outputs": [],
   "source": [
    "engine = create_engine(\"sqlite:///simpsons_db.sqlite\")\n",
    "conn = engine.connect()\n",
    "Base = automap_base()\n",
    "Base.prepare(engine, reflect=True)\n",
    "inspector = inspect(engine)"
   ]
  },
  {
   "cell_type": "code",
   "execution_count": 3,
   "metadata": {},
   "outputs": [
    {
     "data": {
      "text/plain": [
       "['simpsons_characters',\n",
       " 'simpsons_episodes',\n",
       " 'simpsons_locations',\n",
       " 'simpsons_script_lines']"
      ]
     },
     "execution_count": 3,
     "metadata": {},
     "output_type": "execute_result"
    }
   ],
   "source": [
    "Base.classes.keys()"
   ]
  },
  {
   "cell_type": "code",
   "execution_count": 4,
   "metadata": {},
   "outputs": [
    {
     "data": {
      "text/plain": [
       "['simpsons_characters',\n",
       " 'simpsons_episodes',\n",
       " 'simpsons_locations',\n",
       " 'simpsons_script_lines']"
      ]
     },
     "execution_count": 4,
     "metadata": {},
     "output_type": "execute_result"
    }
   ],
   "source": [
    "inspector.get_table_names()"
   ]
  },
  {
   "cell_type": "code",
   "execution_count": 5,
   "metadata": {},
   "outputs": [
    {
     "name": "stdout",
     "output_type": "stream",
     "text": [
      "id INTEGER\n",
      "name VARCHAR(255)\n",
      "normalized_name VARCHAR(255)\n",
      "gender VARCHAR(255)\n"
     ]
    }
   ],
   "source": [
    "columns = inspector.get_columns('simpsons_characters')\n",
    "for column in columns:\n",
    "    print(column[\"name\"], column[\"type\"])"
   ]
  },
  {
   "cell_type": "code",
   "execution_count": 6,
   "metadata": {},
   "outputs": [
    {
     "name": "stdout",
     "output_type": "stream",
     "text": [
      "id INTEGER\n",
      "title VARCHAR(255)\n",
      "original_air_date VARCHAR(255)\n",
      "production_code VARCHAR(255)\n",
      "season INTEGER\n",
      "number_in_season INTEGER\n",
      "number_in_series INTEGER\n",
      "us_viewers_in_millions FLOAT\n",
      "views INTEGER\n",
      "imdb_rating FLOAT\n",
      "imdb_votes INTEGER\n",
      "image_url VARCHAR(255)\n",
      "video_url VARCHAR(255)\n"
     ]
    }
   ],
   "source": [
    "columns = inspector.get_columns('simpsons_episodes')\n",
    "for column in columns:\n",
    "    print(column[\"name\"], column[\"type\"])"
   ]
  },
  {
   "cell_type": "code",
   "execution_count": 7,
   "metadata": {},
   "outputs": [
    {
     "name": "stdout",
     "output_type": "stream",
     "text": [
      "id INTEGER\n",
      "name VARCHAR(255)\n",
      "normalized_name VARCHAR(255)\n"
     ]
    }
   ],
   "source": [
    "columns = inspector.get_columns('simpsons_locations')\n",
    "for column in columns:\n",
    "    print(column[\"name\"], column[\"type\"])"
   ]
  },
  {
   "cell_type": "code",
   "execution_count": 8,
   "metadata": {},
   "outputs": [
    {
     "name": "stdout",
     "output_type": "stream",
     "text": [
      "id INTEGER\n",
      "episode_id INTEGER\n",
      "number INTEGER\n",
      "raw_text TEXT\n",
      "timestamp_in_ms INTEGER\n",
      "speaking_line BOOLEAN\n",
      "character_id INTEGER\n",
      "location_id INTEGER\n",
      "raw_character_text VARCHAR(255)\n",
      "raw_location_text VARCHAR(255)\n",
      "spoken_words TEXT\n",
      "normalized_text TEXT\n",
      "word_count INTEGER\n"
     ]
    }
   ],
   "source": [
    "columns = inspector.get_columns('simpsons_script_lines')\n",
    "for column in columns:\n",
    "    print(column[\"name\"], column[\"type\"])"
   ]
  },
  {
   "cell_type": "code",
   "execution_count": 9,
   "metadata": {
    "collapsed": true
   },
   "outputs": [],
   "source": [
    "Simpsons_characters = Base.classes.simpsons_characters\n",
    "Simpsons_episodes = Base.classes.simpsons_episodes\n",
    "Simpsons_locations = Base.classes.simpsons_locations\n",
    "Simpsons_script_lines = Base.classes.simpsons_script_lines\n",
    "session = Session(engine)"
   ]
  },
  {
   "cell_type": "code",
   "execution_count": 10,
   "metadata": {},
   "outputs": [
    {
     "data": {
      "text/plain": [
       "[(1, 'Marge Simpson', 'marge simpson', 'f'),\n",
       " (2, 'Homer Simpson', 'homer simpson', 'm'),\n",
       " (3, 'Seymour Skinner', 'seymour skinner', 'm'),\n",
       " (4, 'JANEY', 'janey', 'f'),\n",
       " (5, 'Todd Flanders', 'todd flanders', 'm')]"
      ]
     },
     "execution_count": 10,
     "metadata": {},
     "output_type": "execute_result"
    }
   ],
   "source": [
    "conn.execute(\"select * from simpsons_characters limit 5\").fetchall()"
   ]
  },
  {
   "cell_type": "code",
   "execution_count": 11,
   "metadata": {},
   "outputs": [
    {
     "data": {
      "text/plain": [
       "[(1, 'Simpsons Roasting on an Open Fire', '12/17/1989', '7G08', 1, 1, 1, 26.7, 171408, 8.2, 3734, 'http://static-media.fxx.com/img/FX_Networks_-_FXX/617/479/Simpsons_01_08.jpg', 'http://www.simpsonsworld.com/video/273376835817'),\n",
       " (2, 'Bart the Genius', '1/14/1990', '7G02', 1, 2, 2, 24.5, 91423, 7.8, 1973, 'http://static-media.fxx.com/img/FX_Networks_-_FXX/265/167/Simpsons_01_02.jpg', 'http://www.simpsonsworld.com/video/283744835990'),\n",
       " (3, \"Homer's Odyssey\", '1/21/1990', '7G03', 1, 3, 3, 27.5, 78072, 7.5, 1709, 'http://static-media.fxx.com/img/FX_Networks_-_FXX/621/883/Simpsons_01_03.jpg', 'http://www.simpsonsworld.com/video/273381443699'),\n",
       " (4, \"There's No Disgrace Like Home\", '1/28/1990', '7G04', 1, 4, 4, 20.2, 67378, 7.8, 1701, 'http://static-media.fxx.com/img/FX_Networks_-_FXX/632/119/Simpsons_01_04__343617.jpg', 'http://www.simpsonsworld.com/video/273392195780'),\n",
       " (5, 'Bart the General', '2/4/1990', '7G05', 1, 5, 5, 27.1, 63129, 8.1, 1732, 'http://static-media.fxx.com/img/FX_Networks_-_FXX/274/735/Simpsons_01_05.jpg', 'http://www.simpsonsworld.com/video/300934723994')]"
      ]
     },
     "execution_count": 11,
     "metadata": {},
     "output_type": "execute_result"
    }
   ],
   "source": [
    "conn.execute(\"select * from simpsons_episodes limit 5\").fetchall()"
   ]
  },
  {
   "cell_type": "code",
   "execution_count": 12,
   "metadata": {},
   "outputs": [
    {
     "data": {
      "text/plain": [
       "[(1, 'Street', 'street'),\n",
       " (2, 'Car', 'car'),\n",
       " (3, 'Springfield Elementary School', 'springfield elementary school'),\n",
       " (4, 'Auditorium', 'auditorium'),\n",
       " (5, 'Simpson Home', 'simpson home')]"
      ]
     },
     "execution_count": 12,
     "metadata": {},
     "output_type": "execute_result"
    }
   ],
   "source": [
    "conn.execute(\"select * from simpsons_locations limit 5\").fetchall()"
   ]
  },
  {
   "cell_type": "code",
   "execution_count": 13,
   "metadata": {},
   "outputs": [
    {
     "data": {
      "text/plain": [
       "[(1, 1, 0, '(Street: ext. street - establishing - night)', 8000, 1, None, 1, None, 'Street', None, None, None),\n",
       " (2, 1, 1, '(Car: int. car - night)', 8000, 1, None, 2, None, 'Car', None, None, None),\n",
       " (3, 1, 2, 'Marge Simpson: Ooo, careful, Homer.', 8000, 1, 1, 2, 'Marge Simpson', 'Car', 'Ooo, careful, Homer.', 'ooo careful homer', 3),\n",
       " (4, 1, 3, \"Homer Simpson: There's no time to be careful.\", 10000, 1, 2, 2, 'Homer Simpson', 'Car', \"There's no time to be careful.\", 'theres no time to be careful', 6),\n",
       " (5, 1, 4, \"Homer Simpson: We're late.\", 10000, 1, 2, 2, 'Homer Simpson', 'Car', \"We're late.\", 'were late', 2)]"
      ]
     },
     "execution_count": 13,
     "metadata": {},
     "output_type": "execute_result"
    }
   ],
   "source": [
    "conn.execute(\"select * from simpsons_script_lines limit 5\").fetchall()"
   ]
  },
  {
   "cell_type": "code",
   "execution_count": null,
   "metadata": {
    "collapsed": true
   },
   "outputs": [],
   "source": []
  }
 ],
 "metadata": {
  "kernelspec": {
   "display_name": "Python 3",
   "language": "python",
   "name": "python3"
  },
  "language_info": {
   "codemirror_mode": {
    "name": "ipython",
    "version": 3
   },
   "file_extension": ".py",
   "mimetype": "text/x-python",
   "name": "python",
   "nbconvert_exporter": "python",
   "pygments_lexer": "ipython3",
   "version": "3.6.3"
  }
 },
 "nbformat": 4,
 "nbformat_minor": 2
}
